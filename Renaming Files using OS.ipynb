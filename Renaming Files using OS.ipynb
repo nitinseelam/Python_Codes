{
 "cells": [
  {
   "cell_type": "code",
   "execution_count": 13,
   "metadata": {
    "collapsed": true
   },
   "outputs": [],
   "source": [
    "import os"
   ]
  },
  {
   "cell_type": "code",
   "execution_count": 20,
   "metadata": {
    "collapsed": true
   },
   "outputs": [],
   "source": [
    "path = 'C:/Box Sync/nseelam/Downloaded Music'"
   ]
  },
  {
   "cell_type": "code",
   "execution_count": 35,
   "metadata": {
    "collapsed": false,
    "scrolled": true
   },
   "outputs": [
    {
     "data": {
      "text/plain": [
       "['05 - Manase Guvvai.mp3',\n",
       " '05 - Naa Pedavulu.mp3',\n",
       " '05 - Nee Yadalo Naaku.mp3',\n",
       " '05 - Oye Meghamla.mp3',\n",
       " '05 - Ye Chilipi.mp3',\n",
       " 'Aadara.mp3',\n",
       " 'Aadatanama.mp3',\n",
       " 'Andagaada.mp3',\n",
       " 'Andamaina.mp3',\n",
       " 'Appudo Ippudo.mp3',\n",
       " 'Arere Vaanaa.mp3',\n",
       " 'Ayyo Ayyo Dhanayya.mp3',\n",
       " 'Baby He Loves You.mp3',\n",
       " 'Bommani Geesthe.mp3',\n",
       " 'Chaltha Chaltha.mp3',\n",
       " 'Cheliya Cheliya.mp3',\n",
       " 'Chiru Chiru Chiru.mp3',\n",
       " 'Chuttesai Chuttesai.mp3',\n",
       " 'Evare Nuvvu (Remix).mp3',\n",
       " 'Evare Nuvvu.mp3',\n",
       " 'Get Ready.mp3',\n",
       " 'Gucchi Gucchi.mp3',\n",
       " 'Jare Jare.mp3',\n",
       " 'Kaani Ippudu.mp3',\n",
       " 'Kallumoosi.mp3',\n",
       " 'Kanti Papa Kasirinda.mp3',\n",
       " 'Karige Loga (D-Plugged).mp3',\n",
       " 'Karige Loga.mp3',\n",
       " 'Koramenu.mp3',\n",
       " 'Laloo Darvaja.mp3',\n",
       " 'Lothey Teliyanidhi.mp3',\n",
       " 'Manase Guvvai.mp3',\n",
       " 'Mandaara Poovalle.mp3',\n",
       " 'Mr. Perfect (DSP Mix).mp3',\n",
       " 'Mr. Perfect.mp3',\n",
       " 'Music Bit.mp3',\n",
       " 'My Love Is Gone.mp3',\n",
       " 'Naalo Praanalanni.mp3',\n",
       " 'Nammaka Thappani.mp3',\n",
       " 'Nanne Nanne.mp3',\n",
       " 'Nee Kosam Pilla.mp3',\n",
       " 'Ninne Pelladukoni.mp3',\n",
       " 'Oka Tholakari Vela.mp3',\n",
       " 'Om Namaste Bolo.mp3',\n",
       " 'Oorikey Ala.mp3',\n",
       " 'Ringa Ringa.mp3',\n",
       " 'Sommunu.mp3',\n",
       " 'The Encounter.mp3',\n",
       " 'Theme Of Gharshanaa.mp3',\n",
       " 'Tu Tu Tu.mp3',\n",
       " 'Uppenantha.mp3',\n",
       " 'Vennela Chethapattithena.mp3',\n",
       " 'We Have A Romeo.mp3']"
      ]
     },
     "execution_count": 35,
     "metadata": {},
     "output_type": "execute_result"
    }
   ],
   "source": [
    "os.listdir(path)"
   ]
  },
  {
   "cell_type": "code",
   "execution_count": 23,
   "metadata": {
    "collapsed": false
   },
   "outputs": [],
   "source": [
    "for filename in os.listdir(path):\n",
    "    os.rename(os.path.join(path,filename), os.path.join(path, filename.replace('.info','')))"
   ]
  },
  {
   "cell_type": "code",
   "execution_count": 27,
   "metadata": {
    "collapsed": false
   },
   "outputs": [],
   "source": [
    "for filename in os.listdir(path):\n",
    "    os.rename(os.path.join(path,filename), os.path.join(path, filename.replace('01 - ','')))"
   ]
  },
  {
   "cell_type": "code",
   "execution_count": 28,
   "metadata": {
    "collapsed": true
   },
   "outputs": [],
   "source": [
    "for filename in os.listdir(path):\n",
    "    os.rename(os.path.join(path,filename), os.path.join(path, filename.replace('02 - ','')))"
   ]
  },
  {
   "cell_type": "code",
   "execution_count": 29,
   "metadata": {
    "collapsed": true
   },
   "outputs": [],
   "source": [
    "for filename in os.listdir(path):\n",
    "    os.rename(os.path.join(path,filename), os.path.join(path, filename.replace('03 - ','')))"
   ]
  },
  {
   "cell_type": "code",
   "execution_count": 30,
   "metadata": {
    "collapsed": true
   },
   "outputs": [],
   "source": [
    "for filename in os.listdir(path):\n",
    "    os.rename(os.path.join(path,filename), os.path.join(path, filename.replace('04 - ','')))"
   ]
  },
  {
   "cell_type": "code",
   "execution_count": 33,
   "metadata": {
    "collapsed": false
   },
   "outputs": [],
   "source": [
    "for filename in os.listdir(path):\n",
    "    os.rename(os.path.join(path,filename), os.path.join(path, filename.replace('06 - ','')))"
   ]
  },
  {
   "cell_type": "code",
   "execution_count": 34,
   "metadata": {
    "collapsed": false
   },
   "outputs": [
    {
     "ename": "WindowsError",
     "evalue": "[Error 183] Cannot create a file when that file already exists",
     "output_type": "error",
     "traceback": [
      "\u001b[1;31m---------------------------------------------------------------------------\u001b[0m",
      "\u001b[1;31mWindowsError\u001b[0m                              Traceback (most recent call last)",
      "\u001b[1;32m<ipython-input-34-5e7a0e666da9>\u001b[0m in \u001b[0;36m<module>\u001b[1;34m()\u001b[0m\n\u001b[0;32m      1\u001b[0m \u001b[1;32mfor\u001b[0m \u001b[0mfilename\u001b[0m \u001b[1;32min\u001b[0m \u001b[0mos\u001b[0m\u001b[1;33m.\u001b[0m\u001b[0mlistdir\u001b[0m\u001b[1;33m(\u001b[0m\u001b[0mpath\u001b[0m\u001b[1;33m)\u001b[0m\u001b[1;33m:\u001b[0m\u001b[1;33m\u001b[0m\u001b[0m\n\u001b[1;32m----> 2\u001b[1;33m     \u001b[0mos\u001b[0m\u001b[1;33m.\u001b[0m\u001b[0mrename\u001b[0m\u001b[1;33m(\u001b[0m\u001b[0mos\u001b[0m\u001b[1;33m.\u001b[0m\u001b[0mpath\u001b[0m\u001b[1;33m.\u001b[0m\u001b[0mjoin\u001b[0m\u001b[1;33m(\u001b[0m\u001b[0mpath\u001b[0m\u001b[1;33m,\u001b[0m\u001b[0mfilename\u001b[0m\u001b[1;33m)\u001b[0m\u001b[1;33m,\u001b[0m \u001b[0mos\u001b[0m\u001b[1;33m.\u001b[0m\u001b[0mpath\u001b[0m\u001b[1;33m.\u001b[0m\u001b[0mjoin\u001b[0m\u001b[1;33m(\u001b[0m\u001b[0mpath\u001b[0m\u001b[1;33m,\u001b[0m \u001b[0mfilename\u001b[0m\u001b[1;33m.\u001b[0m\u001b[0mreplace\u001b[0m\u001b[1;33m(\u001b[0m\u001b[1;34m'05 - '\u001b[0m\u001b[1;33m,\u001b[0m\u001b[1;34m''\u001b[0m\u001b[1;33m)\u001b[0m\u001b[1;33m)\u001b[0m\u001b[1;33m)\u001b[0m\u001b[1;33m\u001b[0m\u001b[0m\n\u001b[0m",
      "\u001b[1;31mWindowsError\u001b[0m: [Error 183] Cannot create a file when that file already exists"
     ]
    }
   ],
   "source": [
    "for filename in os.listdir(path):\n",
    "    os.rename(os.path.join(path,filename), os.path.join(path, filename.replace('05 - ','')))"
   ]
  },
  {
   "cell_type": "code",
   "execution_count": null,
   "metadata": {
    "collapsed": true
   },
   "outputs": [],
   "source": []
  }
 ],
 "metadata": {
  "kernelspec": {
   "display_name": "Python 2",
   "language": "python",
   "name": "python2"
  },
  "language_info": {
   "codemirror_mode": {
    "name": "ipython",
    "version": 2
   },
   "file_extension": ".py",
   "mimetype": "text/x-python",
   "name": "python",
   "nbconvert_exporter": "python",
   "pygments_lexer": "ipython2",
   "version": "2.7.11"
  }
 },
 "nbformat": 4,
 "nbformat_minor": 0
}
